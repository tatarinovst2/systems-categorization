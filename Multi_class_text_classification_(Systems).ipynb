{
  "nbformat": 4,
  "nbformat_minor": 0,
  "metadata": {
    "colab": {
      "provenance": []
    },
    "kernelspec": {
      "name": "python3",
      "display_name": "Python 3"
    },
    "language_info": {
      "name": "python"
    }
  },
  "cells": [
    {
      "cell_type": "markdown",
      "source": [
        "# Start"
      ],
      "metadata": {
        "id": "GLre6C-FaJ9o"
      }
    },
    {
      "cell_type": "code",
      "source": [
        "import pandas as pd\n",
        "import numpy as np\n",
        "import re\n",
        "import random\n",
        "import os\n",
        "import matplotlib.pyplot as plt\n",
        "from sklearn.preprocessing import LabelEncoder\n",
        "from sklearn.model_selection import train_test_split\n",
        "from sklearn.metrics import classification_report\n",
        "import seaborn as sns\n",
        "from tqdm import tqdm\n",
        "\n",
        "from torch.utils.data import Dataset\n",
        "import torch.optim as optim\n",
        "from torch import nn\n",
        "import torch\n",
        "\n",
        "import warnings\n",
        "warnings.filterwarnings(\"ignore\")"
      ],
      "metadata": {
        "id": "mo04WeFFk7HR"
      },
      "execution_count": 1,
      "outputs": []
    },
    {
      "cell_type": "code",
      "source": [
        "seed=1\n",
        "random.seed(seed)\n",
        "os.environ['PYTHONHASHSEED']  = str(seed)\n",
        "np.random.seed(seed)"
      ],
      "metadata": {
        "id": "zhy10wY8lNPx"
      },
      "execution_count": 2,
      "outputs": []
    },
    {
      "cell_type": "code",
      "source": [
        "from google.colab import files\n",
        "uploaded = files.upload()"
      ],
      "metadata": {
        "colab": {
          "base_uri": "https://localhost:8080/",
          "height": 73
        },
        "id": "4TxE1W0BuIrX",
        "outputId": "929154e1-41e9-40c4-b68d-2ec0834c764c"
      },
      "execution_count": 85,
      "outputs": [
        {
          "output_type": "display_data",
          "data": {
            "text/plain": [
              "<IPython.core.display.HTML object>"
            ],
            "text/html": [
              "\n",
              "     <input type=\"file\" id=\"files-7aef72e1-5e8c-4aeb-819c-b1eee7c72efb\" name=\"files[]\" multiple disabled\n",
              "        style=\"border:none\" />\n",
              "     <output id=\"result-7aef72e1-5e8c-4aeb-819c-b1eee7c72efb\">\n",
              "      Upload widget is only available when the cell has been executed in the\n",
              "      current browser session. Please rerun this cell to enable.\n",
              "      </output>\n",
              "      <script>// Copyright 2017 Google LLC\n",
              "//\n",
              "// Licensed under the Apache License, Version 2.0 (the \"License\");\n",
              "// you may not use this file except in compliance with the License.\n",
              "// You may obtain a copy of the License at\n",
              "//\n",
              "//      http://www.apache.org/licenses/LICENSE-2.0\n",
              "//\n",
              "// Unless required by applicable law or agreed to in writing, software\n",
              "// distributed under the License is distributed on an \"AS IS\" BASIS,\n",
              "// WITHOUT WARRANTIES OR CONDITIONS OF ANY KIND, either express or implied.\n",
              "// See the License for the specific language governing permissions and\n",
              "// limitations under the License.\n",
              "\n",
              "/**\n",
              " * @fileoverview Helpers for google.colab Python module.\n",
              " */\n",
              "(function(scope) {\n",
              "function span(text, styleAttributes = {}) {\n",
              "  const element = document.createElement('span');\n",
              "  element.textContent = text;\n",
              "  for (const key of Object.keys(styleAttributes)) {\n",
              "    element.style[key] = styleAttributes[key];\n",
              "  }\n",
              "  return element;\n",
              "}\n",
              "\n",
              "// Max number of bytes which will be uploaded at a time.\n",
              "const MAX_PAYLOAD_SIZE = 100 * 1024;\n",
              "\n",
              "function _uploadFiles(inputId, outputId) {\n",
              "  const steps = uploadFilesStep(inputId, outputId);\n",
              "  const outputElement = document.getElementById(outputId);\n",
              "  // Cache steps on the outputElement to make it available for the next call\n",
              "  // to uploadFilesContinue from Python.\n",
              "  outputElement.steps = steps;\n",
              "\n",
              "  return _uploadFilesContinue(outputId);\n",
              "}\n",
              "\n",
              "// This is roughly an async generator (not supported in the browser yet),\n",
              "// where there are multiple asynchronous steps and the Python side is going\n",
              "// to poll for completion of each step.\n",
              "// This uses a Promise to block the python side on completion of each step,\n",
              "// then passes the result of the previous step as the input to the next step.\n",
              "function _uploadFilesContinue(outputId) {\n",
              "  const outputElement = document.getElementById(outputId);\n",
              "  const steps = outputElement.steps;\n",
              "\n",
              "  const next = steps.next(outputElement.lastPromiseValue);\n",
              "  return Promise.resolve(next.value.promise).then((value) => {\n",
              "    // Cache the last promise value to make it available to the next\n",
              "    // step of the generator.\n",
              "    outputElement.lastPromiseValue = value;\n",
              "    return next.value.response;\n",
              "  });\n",
              "}\n",
              "\n",
              "/**\n",
              " * Generator function which is called between each async step of the upload\n",
              " * process.\n",
              " * @param {string} inputId Element ID of the input file picker element.\n",
              " * @param {string} outputId Element ID of the output display.\n",
              " * @return {!Iterable<!Object>} Iterable of next steps.\n",
              " */\n",
              "function* uploadFilesStep(inputId, outputId) {\n",
              "  const inputElement = document.getElementById(inputId);\n",
              "  inputElement.disabled = false;\n",
              "\n",
              "  const outputElement = document.getElementById(outputId);\n",
              "  outputElement.innerHTML = '';\n",
              "\n",
              "  const pickedPromise = new Promise((resolve) => {\n",
              "    inputElement.addEventListener('change', (e) => {\n",
              "      resolve(e.target.files);\n",
              "    });\n",
              "  });\n",
              "\n",
              "  const cancel = document.createElement('button');\n",
              "  inputElement.parentElement.appendChild(cancel);\n",
              "  cancel.textContent = 'Cancel upload';\n",
              "  const cancelPromise = new Promise((resolve) => {\n",
              "    cancel.onclick = () => {\n",
              "      resolve(null);\n",
              "    };\n",
              "  });\n",
              "\n",
              "  // Wait for the user to pick the files.\n",
              "  const files = yield {\n",
              "    promise: Promise.race([pickedPromise, cancelPromise]),\n",
              "    response: {\n",
              "      action: 'starting',\n",
              "    }\n",
              "  };\n",
              "\n",
              "  cancel.remove();\n",
              "\n",
              "  // Disable the input element since further picks are not allowed.\n",
              "  inputElement.disabled = true;\n",
              "\n",
              "  if (!files) {\n",
              "    return {\n",
              "      response: {\n",
              "        action: 'complete',\n",
              "      }\n",
              "    };\n",
              "  }\n",
              "\n",
              "  for (const file of files) {\n",
              "    const li = document.createElement('li');\n",
              "    li.append(span(file.name, {fontWeight: 'bold'}));\n",
              "    li.append(span(\n",
              "        `(${file.type || 'n/a'}) - ${file.size} bytes, ` +\n",
              "        `last modified: ${\n",
              "            file.lastModifiedDate ? file.lastModifiedDate.toLocaleDateString() :\n",
              "                                    'n/a'} - `));\n",
              "    const percent = span('0% done');\n",
              "    li.appendChild(percent);\n",
              "\n",
              "    outputElement.appendChild(li);\n",
              "\n",
              "    const fileDataPromise = new Promise((resolve) => {\n",
              "      const reader = new FileReader();\n",
              "      reader.onload = (e) => {\n",
              "        resolve(e.target.result);\n",
              "      };\n",
              "      reader.readAsArrayBuffer(file);\n",
              "    });\n",
              "    // Wait for the data to be ready.\n",
              "    let fileData = yield {\n",
              "      promise: fileDataPromise,\n",
              "      response: {\n",
              "        action: 'continue',\n",
              "      }\n",
              "    };\n",
              "\n",
              "    // Use a chunked sending to avoid message size limits. See b/62115660.\n",
              "    let position = 0;\n",
              "    do {\n",
              "      const length = Math.min(fileData.byteLength - position, MAX_PAYLOAD_SIZE);\n",
              "      const chunk = new Uint8Array(fileData, position, length);\n",
              "      position += length;\n",
              "\n",
              "      const base64 = btoa(String.fromCharCode.apply(null, chunk));\n",
              "      yield {\n",
              "        response: {\n",
              "          action: 'append',\n",
              "          file: file.name,\n",
              "          data: base64,\n",
              "        },\n",
              "      };\n",
              "\n",
              "      let percentDone = fileData.byteLength === 0 ?\n",
              "          100 :\n",
              "          Math.round((position / fileData.byteLength) * 100);\n",
              "      percent.textContent = `${percentDone}% done`;\n",
              "\n",
              "    } while (position < fileData.byteLength);\n",
              "  }\n",
              "\n",
              "  // All done.\n",
              "  yield {\n",
              "    response: {\n",
              "      action: 'complete',\n",
              "    }\n",
              "  };\n",
              "}\n",
              "\n",
              "scope.google = scope.google || {};\n",
              "scope.google.colab = scope.google.colab || {};\n",
              "scope.google.colab._files = {\n",
              "  _uploadFiles,\n",
              "  _uploadFilesContinue,\n",
              "};\n",
              "})(self);\n",
              "</script> "
            ]
          },
          "metadata": {}
        },
        {
          "output_type": "stream",
          "name": "stdout",
          "text": [
            "Saving Suicide_Detection_with_topics_balanced.csv to Suicide_Detection_with_topics_balanced.csv\n"
          ]
        }
      ]
    },
    {
      "cell_type": "code",
      "source": [
        "df = pd.read_csv('Suicide_Detection_with_topics_balanced.csv')"
      ],
      "metadata": {
        "id": "pJeftWNplxse"
      },
      "execution_count": 86,
      "outputs": []
    },
    {
      "cell_type": "code",
      "source": [
        "# Drop non-suicide texts as we don't need them here\n",
        "indices_to_drop = df[df['class'] == 'non-suicide'].index\n",
        "df.drop(indices_to_drop, inplace=True)\n",
        "df.reset_index(drop=True, inplace=True)"
      ],
      "metadata": {
        "id": "d2V84FEZ_xcR"
      },
      "execution_count": 87,
      "outputs": []
    },
    {
      "cell_type": "markdown",
      "source": [
        "# EDA"
      ],
      "metadata": {
        "id": "4fHmDKmXkIru"
      }
    },
    {
      "cell_type": "code",
      "execution_count": 88,
      "metadata": {
        "id": "2sFd0QPRj-D3",
        "colab": {
          "base_uri": "https://localhost:8080/",
          "height": 206
        },
        "outputId": "33b80b1c-5c34-49bf-a4d4-e31e5eee422d"
      },
      "outputs": [
        {
          "output_type": "execute_result",
          "data": {
            "text/plain": [
              "   id                                               text    class  topic\n",
              "0   2  Ex Wife Threatening SuicideRecently I left my ...  suicide      6\n",
              "1   8          i need helpjust help me im crying so hard  suicide      1\n",
              "2   9  I’m so lostHello, my name is Adam (16) and I’v...  suicide      3\n",
              "3  11  Honetly idkI dont know what im even doing here...  suicide      2\n",
              "4  12  [Trigger warning] Excuse for self inflicted bu...  suicide      8"
            ],
            "text/html": [
              "\n",
              "  <div id=\"df-4e7425dc-7f57-484c-87c3-d2ca79b9739d\" class=\"colab-df-container\">\n",
              "    <div>\n",
              "<style scoped>\n",
              "    .dataframe tbody tr th:only-of-type {\n",
              "        vertical-align: middle;\n",
              "    }\n",
              "\n",
              "    .dataframe tbody tr th {\n",
              "        vertical-align: top;\n",
              "    }\n",
              "\n",
              "    .dataframe thead th {\n",
              "        text-align: right;\n",
              "    }\n",
              "</style>\n",
              "<table border=\"1\" class=\"dataframe\">\n",
              "  <thead>\n",
              "    <tr style=\"text-align: right;\">\n",
              "      <th></th>\n",
              "      <th>id</th>\n",
              "      <th>text</th>\n",
              "      <th>class</th>\n",
              "      <th>topic</th>\n",
              "    </tr>\n",
              "  </thead>\n",
              "  <tbody>\n",
              "    <tr>\n",
              "      <th>0</th>\n",
              "      <td>2</td>\n",
              "      <td>Ex Wife Threatening SuicideRecently I left my ...</td>\n",
              "      <td>suicide</td>\n",
              "      <td>6</td>\n",
              "    </tr>\n",
              "    <tr>\n",
              "      <th>1</th>\n",
              "      <td>8</td>\n",
              "      <td>i need helpjust help me im crying so hard</td>\n",
              "      <td>suicide</td>\n",
              "      <td>1</td>\n",
              "    </tr>\n",
              "    <tr>\n",
              "      <th>2</th>\n",
              "      <td>9</td>\n",
              "      <td>I’m so lostHello, my name is Adam (16) and I’v...</td>\n",
              "      <td>suicide</td>\n",
              "      <td>3</td>\n",
              "    </tr>\n",
              "    <tr>\n",
              "      <th>3</th>\n",
              "      <td>11</td>\n",
              "      <td>Honetly idkI dont know what im even doing here...</td>\n",
              "      <td>suicide</td>\n",
              "      <td>2</td>\n",
              "    </tr>\n",
              "    <tr>\n",
              "      <th>4</th>\n",
              "      <td>12</td>\n",
              "      <td>[Trigger warning] Excuse for self inflicted bu...</td>\n",
              "      <td>suicide</td>\n",
              "      <td>8</td>\n",
              "    </tr>\n",
              "  </tbody>\n",
              "</table>\n",
              "</div>\n",
              "    <div class=\"colab-df-buttons\">\n",
              "\n",
              "  <div class=\"colab-df-container\">\n",
              "    <button class=\"colab-df-convert\" onclick=\"convertToInteractive('df-4e7425dc-7f57-484c-87c3-d2ca79b9739d')\"\n",
              "            title=\"Convert this dataframe to an interactive table.\"\n",
              "            style=\"display:none;\">\n",
              "\n",
              "  <svg xmlns=\"http://www.w3.org/2000/svg\" height=\"24px\" viewBox=\"0 -960 960 960\">\n",
              "    <path d=\"M120-120v-720h720v720H120Zm60-500h600v-160H180v160Zm220 220h160v-160H400v160Zm0 220h160v-160H400v160ZM180-400h160v-160H180v160Zm440 0h160v-160H620v160ZM180-180h160v-160H180v160Zm440 0h160v-160H620v160Z\"/>\n",
              "  </svg>\n",
              "    </button>\n",
              "\n",
              "  <style>\n",
              "    .colab-df-container {\n",
              "      display:flex;\n",
              "      gap: 12px;\n",
              "    }\n",
              "\n",
              "    .colab-df-convert {\n",
              "      background-color: #E8F0FE;\n",
              "      border: none;\n",
              "      border-radius: 50%;\n",
              "      cursor: pointer;\n",
              "      display: none;\n",
              "      fill: #1967D2;\n",
              "      height: 32px;\n",
              "      padding: 0 0 0 0;\n",
              "      width: 32px;\n",
              "    }\n",
              "\n",
              "    .colab-df-convert:hover {\n",
              "      background-color: #E2EBFA;\n",
              "      box-shadow: 0px 1px 2px rgba(60, 64, 67, 0.3), 0px 1px 3px 1px rgba(60, 64, 67, 0.15);\n",
              "      fill: #174EA6;\n",
              "    }\n",
              "\n",
              "    .colab-df-buttons div {\n",
              "      margin-bottom: 4px;\n",
              "    }\n",
              "\n",
              "    [theme=dark] .colab-df-convert {\n",
              "      background-color: #3B4455;\n",
              "      fill: #D2E3FC;\n",
              "    }\n",
              "\n",
              "    [theme=dark] .colab-df-convert:hover {\n",
              "      background-color: #434B5C;\n",
              "      box-shadow: 0px 1px 3px 1px rgba(0, 0, 0, 0.15);\n",
              "      filter: drop-shadow(0px 1px 2px rgba(0, 0, 0, 0.3));\n",
              "      fill: #FFFFFF;\n",
              "    }\n",
              "  </style>\n",
              "\n",
              "    <script>\n",
              "      const buttonEl =\n",
              "        document.querySelector('#df-4e7425dc-7f57-484c-87c3-d2ca79b9739d button.colab-df-convert');\n",
              "      buttonEl.style.display =\n",
              "        google.colab.kernel.accessAllowed ? 'block' : 'none';\n",
              "\n",
              "      async function convertToInteractive(key) {\n",
              "        const element = document.querySelector('#df-4e7425dc-7f57-484c-87c3-d2ca79b9739d');\n",
              "        const dataTable =\n",
              "          await google.colab.kernel.invokeFunction('convertToInteractive',\n",
              "                                                    [key], {});\n",
              "        if (!dataTable) return;\n",
              "\n",
              "        const docLinkHtml = 'Like what you see? Visit the ' +\n",
              "          '<a target=\"_blank\" href=https://colab.research.google.com/notebooks/data_table.ipynb>data table notebook</a>'\n",
              "          + ' to learn more about interactive tables.';\n",
              "        element.innerHTML = '';\n",
              "        dataTable['output_type'] = 'display_data';\n",
              "        await google.colab.output.renderOutput(dataTable, element);\n",
              "        const docLink = document.createElement('div');\n",
              "        docLink.innerHTML = docLinkHtml;\n",
              "        element.appendChild(docLink);\n",
              "      }\n",
              "    </script>\n",
              "  </div>\n",
              "\n",
              "\n",
              "<div id=\"df-28fc4307-623f-4f60-a016-19c321583b80\">\n",
              "  <button class=\"colab-df-quickchart\" onclick=\"quickchart('df-28fc4307-623f-4f60-a016-19c321583b80')\"\n",
              "            title=\"Suggest charts\"\n",
              "            style=\"display:none;\">\n",
              "\n",
              "<svg xmlns=\"http://www.w3.org/2000/svg\" height=\"24px\"viewBox=\"0 0 24 24\"\n",
              "     width=\"24px\">\n",
              "    <g>\n",
              "        <path d=\"M19 3H5c-1.1 0-2 .9-2 2v14c0 1.1.9 2 2 2h14c1.1 0 2-.9 2-2V5c0-1.1-.9-2-2-2zM9 17H7v-7h2v7zm4 0h-2V7h2v10zm4 0h-2v-4h2v4z\"/>\n",
              "    </g>\n",
              "</svg>\n",
              "  </button>\n",
              "\n",
              "<style>\n",
              "  .colab-df-quickchart {\n",
              "      --bg-color: #E8F0FE;\n",
              "      --fill-color: #1967D2;\n",
              "      --hover-bg-color: #E2EBFA;\n",
              "      --hover-fill-color: #174EA6;\n",
              "      --disabled-fill-color: #AAA;\n",
              "      --disabled-bg-color: #DDD;\n",
              "  }\n",
              "\n",
              "  [theme=dark] .colab-df-quickchart {\n",
              "      --bg-color: #3B4455;\n",
              "      --fill-color: #D2E3FC;\n",
              "      --hover-bg-color: #434B5C;\n",
              "      --hover-fill-color: #FFFFFF;\n",
              "      --disabled-bg-color: #3B4455;\n",
              "      --disabled-fill-color: #666;\n",
              "  }\n",
              "\n",
              "  .colab-df-quickchart {\n",
              "    background-color: var(--bg-color);\n",
              "    border: none;\n",
              "    border-radius: 50%;\n",
              "    cursor: pointer;\n",
              "    display: none;\n",
              "    fill: var(--fill-color);\n",
              "    height: 32px;\n",
              "    padding: 0;\n",
              "    width: 32px;\n",
              "  }\n",
              "\n",
              "  .colab-df-quickchart:hover {\n",
              "    background-color: var(--hover-bg-color);\n",
              "    box-shadow: 0 1px 2px rgba(60, 64, 67, 0.3), 0 1px 3px 1px rgba(60, 64, 67, 0.15);\n",
              "    fill: var(--button-hover-fill-color);\n",
              "  }\n",
              "\n",
              "  .colab-df-quickchart-complete:disabled,\n",
              "  .colab-df-quickchart-complete:disabled:hover {\n",
              "    background-color: var(--disabled-bg-color);\n",
              "    fill: var(--disabled-fill-color);\n",
              "    box-shadow: none;\n",
              "  }\n",
              "\n",
              "  .colab-df-spinner {\n",
              "    border: 2px solid var(--fill-color);\n",
              "    border-color: transparent;\n",
              "    border-bottom-color: var(--fill-color);\n",
              "    animation:\n",
              "      spin 1s steps(1) infinite;\n",
              "  }\n",
              "\n",
              "  @keyframes spin {\n",
              "    0% {\n",
              "      border-color: transparent;\n",
              "      border-bottom-color: var(--fill-color);\n",
              "      border-left-color: var(--fill-color);\n",
              "    }\n",
              "    20% {\n",
              "      border-color: transparent;\n",
              "      border-left-color: var(--fill-color);\n",
              "      border-top-color: var(--fill-color);\n",
              "    }\n",
              "    30% {\n",
              "      border-color: transparent;\n",
              "      border-left-color: var(--fill-color);\n",
              "      border-top-color: var(--fill-color);\n",
              "      border-right-color: var(--fill-color);\n",
              "    }\n",
              "    40% {\n",
              "      border-color: transparent;\n",
              "      border-right-color: var(--fill-color);\n",
              "      border-top-color: var(--fill-color);\n",
              "    }\n",
              "    60% {\n",
              "      border-color: transparent;\n",
              "      border-right-color: var(--fill-color);\n",
              "    }\n",
              "    80% {\n",
              "      border-color: transparent;\n",
              "      border-right-color: var(--fill-color);\n",
              "      border-bottom-color: var(--fill-color);\n",
              "    }\n",
              "    90% {\n",
              "      border-color: transparent;\n",
              "      border-bottom-color: var(--fill-color);\n",
              "    }\n",
              "  }\n",
              "</style>\n",
              "\n",
              "  <script>\n",
              "    async function quickchart(key) {\n",
              "      const quickchartButtonEl =\n",
              "        document.querySelector('#' + key + ' button');\n",
              "      quickchartButtonEl.disabled = true;  // To prevent multiple clicks.\n",
              "      quickchartButtonEl.classList.add('colab-df-spinner');\n",
              "      try {\n",
              "        const charts = await google.colab.kernel.invokeFunction(\n",
              "            'suggestCharts', [key], {});\n",
              "      } catch (error) {\n",
              "        console.error('Error during call to suggestCharts:', error);\n",
              "      }\n",
              "      quickchartButtonEl.classList.remove('colab-df-spinner');\n",
              "      quickchartButtonEl.classList.add('colab-df-quickchart-complete');\n",
              "    }\n",
              "    (() => {\n",
              "      let quickchartButtonEl =\n",
              "        document.querySelector('#df-28fc4307-623f-4f60-a016-19c321583b80 button');\n",
              "      quickchartButtonEl.style.display =\n",
              "        google.colab.kernel.accessAllowed ? 'block' : 'none';\n",
              "    })();\n",
              "  </script>\n",
              "</div>\n",
              "    </div>\n",
              "  </div>\n"
            ]
          },
          "metadata": {},
          "execution_count": 88
        }
      ],
      "source": [
        "df.head()"
      ]
    },
    {
      "cell_type": "code",
      "source": [
        "texts = df['text']\n",
        "texts"
      ],
      "metadata": {
        "colab": {
          "base_uri": "https://localhost:8080/"
        },
        "id": "z4URBXKzuwZY",
        "outputId": "15fd7aca-5482-45dd-dcb6-89fdd42bdfb5"
      },
      "execution_count": 89,
      "outputs": [
        {
          "output_type": "execute_result",
          "data": {
            "text/plain": [
              "0        Ex Wife Threatening SuicideRecently I left my ...\n",
              "1                i need helpjust help me im crying so hard\n",
              "2        I’m so lostHello, my name is Adam (16) and I’v...\n",
              "3        Honetly idkI dont know what im even doing here...\n",
              "4        [Trigger warning] Excuse for self inflicted bu...\n",
              "                               ...                        \n",
              "14995    I guess I will kill myself as soon as I can.Go...\n",
              "14996    Not me, but saw a concerning post at /r/depres...\n",
              "14997    Feeling like crap tonightHi SW, so I'm feeling...\n",
              "14998    This is it i guess..Everything is just wrong a...\n",
              "14999    Family found about my drugsSo, Im 22yrs old an...\n",
              "Name: text, Length: 15000, dtype: object"
            ]
          },
          "metadata": {},
          "execution_count": 89
        }
      ]
    },
    {
      "cell_type": "code",
      "source": [
        "import re\n",
        "\n",
        "formatted_texts = texts.apply(lambda x: re.sub(r\"(@\\[A-Za-z0-9']+)|(\\w+:\\/\\/\\S+)|^rt|http.+?\", \"\", x))\n",
        "formatted_texts = [text.replace(\"'\", \" \") for text in formatted_texts]\n",
        "formatted_texts = [text.replace(\"’\", \" \") for text in formatted_texts]\n",
        "texts = [text.lower() for text in formatted_texts]\n",
        "texts[:5]"
      ],
      "metadata": {
        "colab": {
          "base_uri": "https://localhost:8080/"
        },
        "id": "OMGIp72luydh",
        "outputId": "7e5fbec5-d785-46a1-df5d-260eed8d7669"
      },
      "execution_count": 90,
      "outputs": [
        {
          "output_type": "execute_result",
          "data": {
            "text/plain": [
              "['ex wife threatening suiciderecently i left my wife for good because she has cheated on me twice and lied to me so much that i have decided to refuse to go back to her. as of a few days ago, she began threatening suicide. i have tirelessly spent these paat few days talking her out of it and she keeps hesitating because she wants to believe i ll come back. i know a lot of people will threaten this in order to get their way, but what happens if she really does? what do i do and how am i supposed to handle her death on my hands? i still love my wife but i cannot deal with getting cheated on again and constantly feeling insecure. i m worried today may be the day she does it and i hope so much it doesn t happen.',\n",
              " 'i need helpjust help me im crying so hard',\n",
              " 'i m so losthello, my name is adam (16) and i ve been struggling for years and i m afraid. through these past years thoughts of suicide, fear, anxiety i m so close to my limit . i ve been quiet for so long and i m too scared to come out to my family about these feelings. about 3 years ago  losing my aunt triggered it all. everyday feeling hopeless , lost, guilty, and remorseful over her and all the things i ve done in my life,but thoughts like these with the little i ve experienced in life? only time i ve revealed these feelings to my family is when i broke down where they saw my cuts. watching them get so worried over something i portrayed as an average day made me feel absolutely dreadful. they later found out i was an attempt survivor from attempt od(overdose from pills) and attempt hanging. all that happened was a blackout from the pills and i never went through with the noose because i m still so afraid. during my first therapy i was diagnosed with severe depression, social anxiety, and a eating disorder.\\ni was later transferred to a fucken group therapy for some reason which made me feel more anxious. eventually before my last session with a 1 on 1 therapy she showed me my results from a daily check up on my feelings(which was a 2 - step survey for me and my mom/dad )\\ncome to find out as i ve been putting feeling horrible and afraid/anxious everyday , my mom has been doing i ve been doing absolutely amazing with me described as “happiest she s ever seen me, therapy has helped him” \\ni eventually was put on sertaline (anti anxiety or anti depression i m sorry i forgot) but i never finished my first prescription nor ever found the right type of anti depressant because my mom thought i only wanted the drugs so she took me off my recommended pill schedule after ~3 week and stopped me from taking them. all this time i ve been feeling worse afraid of the damage/ worry i ve caused them even more. \\nnow here with everything going on, i m as afraid as i ve ever been . i ve relapsed on cutting and have developed severe insomnia . day after day feeling more hopeless, worthless questioning why am i still here? what s my motivation to move out of bed and keep going? i ask these to myself nearly every night almost having a break down everytime. \\nplease please please someone.. anyone help me.\\ni m so scared i might do something drastic, i ve been shaped by fear and anxiety. idk what to do anymore',\n",
              " 'honetly idki dont know what im even doing here. i just feel like there is nothing and nowhere for me. all i can feel is either nothing or unbearably sad. im ignoring friends every opitunity i can. i feel like im loosing my girlfriend. i only hurt everyone i talk too and i dont cause anything good. im behind on my education, i feel alone but for the first time its not a feeling ive enjoyed. i have no hopes or dreams. i care about nothing, not family, not friends, not even my girlfriend (i still love her, its complicated and i dont have the words to describe it). \\n\\ni would do something to end myself but i know im not strong and brave enough to do it, and knowing im that weak makes me sadder. the only thing i can do is push away all emotion and be empty, because as bad as it is im used to it, its my way of being normal. \\n\\ni dont understand how people have hopes or dreams, and i mentioned how bad i was feeling to my girlfriend but she just got scared i would die so i havnt brought it up again. but in that talk i realised i cant even comprehend my life having meaning to anyone.\\n\\ni know this is just me rambling and i will probably regret posting this as ill think im taking the place of someone having a worse time with a gun to their head. i encoage all people who see this to help them instead of me. ill probably suvive, they might not. plus my life is meaningless and my future bleak, while they could cure cancer or something useful.\\n\\nsorry for wasting your time',\n",
              " '[trigger warning] excuse for self inflicted burns*i do know the crisis line and used it after when i was having a panic attack.\\n*i know it s not a healthy thing to do.\\n\\nbut, i did. i did something stupid out of impulse. i burned myself.  i really need help with an excuse as the father of my daughter knows my history (we were together 12 years.) he s seen my at my worst - but! i had always only cut on my ankles and wrists, i m thinking the excuse for this would be easier than one for cuts.\\n\\n\\n i did work on my car last night and i hadn t self harmed in a long time. i just did it without thinking, as usual; impulse and lost in the moment.\\n\\n\\nshould i say i touched something under the hood while the car was still hot? i have 3 almost in a curved like pattern the first on forearm then down a little then on the side of my wrist. they are about an inch long, kind of wide and a little deep. \\n\\ni think the car excuse  is a good one but i would need to say what i was working on to explain the 3 burns. maybe that there was a wire smooshed behind the engine and when i went to fix it i touched the engine? \\n\\ni do not want to self harm again, i just need to be able to explain this.']"
            ]
          },
          "metadata": {},
          "execution_count": 90
        }
      ]
    },
    {
      "cell_type": "code",
      "source": [
        "df['topic'].value_counts()"
      ],
      "metadata": {
        "colab": {
          "base_uri": "https://localhost:8080/"
        },
        "id": "7tlVvw3QBe-J",
        "outputId": "b8ef8599-cd39-4b0d-851d-82dbe96c7f6d"
      },
      "execution_count": 91,
      "outputs": [
        {
          "output_type": "execute_result",
          "data": {
            "text/plain": [
              "6    1875\n",
              "1    1875\n",
              "3    1875\n",
              "2    1875\n",
              "8    1875\n",
              "7    1875\n",
              "4    1875\n",
              "5    1875\n",
              "Name: topic, dtype: int64"
            ]
          },
          "metadata": {},
          "execution_count": 91
        }
      ]
    },
    {
      "cell_type": "code",
      "source": [
        "plt.figure(figsize=(5, 3), dpi=150)\n",
        "plt.title(\"Label\", fontsize=10)\n",
        "plt.hist(df[\"topic\"], bins=8);"
      ],
      "metadata": {
        "colab": {
          "base_uri": "https://localhost:8080/",
          "height": 456
        },
        "id": "rI0cSWcUBhf2",
        "outputId": "97e91706-2d32-4b2e-a92d-5940ce0814c3"
      },
      "execution_count": 92,
      "outputs": [
        {
          "output_type": "display_data",
          "data": {
            "text/plain": [
              "<Figure size 750x450 with 1 Axes>"
            ],
            "image/png": "[encoded data removed]"
          },
          "metadata": {}
        }
      ]
    },
    {
      "cell_type": "code",
      "source": [
        "import nltk\n",
        "nltk.download('punkt')\n",
        "nltk.download('stopwords')\n",
        "from nltk.corpus import stopwords\n",
        "stop_words = stopwords.words('english')"
      ],
      "metadata": {
        "colab": {
          "base_uri": "https://localhost:8080/"
        },
        "id": "N6jXKH89Btfe",
        "outputId": "93da0614-2030-41ce-b778-08caac86fdfa"
      },
      "execution_count": 93,
      "outputs": [
        {
          "output_type": "stream",
          "name": "stderr",
          "text": [
            "[nltk_data] Downloading package punkt to /root/nltk_data...\n",
            "[nltk_data]   Package punkt is already up-to-date!\n",
            "[nltk_data] Downloading package stopwords to /root/nltk_data...\n",
            "[nltk_data]   Package stopwords is already up-to-date!\n"
          ]
        }
      ]
    },
    {
      "cell_type": "code",
      "source": [
        "def remove_punctuation(tokenized_texts: list) -> list:\n",
        "    filtered_texts = []\n",
        "    for tokenized_text in tokenized_texts:\n",
        "        filtered_texts.append([re.sub(r\"[^0-9A-Za-z]\", \"\", token) for token in tokenized_text if re.sub(r\"[^0-9A-Za-z]\", \"\", token).strip()])\n",
        "    return filtered_texts"
      ],
      "metadata": {
        "id": "06WnscjLB3h5"
      },
      "execution_count": 94,
      "outputs": []
    },
    {
      "cell_type": "code",
      "source": [
        "def clean_stopwords(tokenized_texts: list) -> list:\n",
        "    filtered_texts = []\n",
        "    for tokenized_text in tokenized_texts:\n",
        "        filtered_texts.append([word for word in tokenized_text if word.lower() not in [*stop_words, 'im']])\n",
        "    return filtered_texts"
      ],
      "metadata": {
        "id": "bYvQ3V4KCvNY"
      },
      "execution_count": 95,
      "outputs": []
    },
    {
      "cell_type": "code",
      "source": [
        "tokenized_texts = []\n",
        "for text in texts:\n",
        "  tokenized_texts.append(nltk.word_tokenize(text))"
      ],
      "metadata": {
        "id": "16H8Rv1BCx1e"
      },
      "execution_count": 96,
      "outputs": []
    },
    {
      "cell_type": "code",
      "source": [
        "tokenized_texts = remove_punctuation(tokenized_texts)\n",
        "tokenized_texts = clean_stopwords(tokenized_texts)"
      ],
      "metadata": {
        "id": "6nzpu7EiC25n"
      },
      "execution_count": 97,
      "outputs": []
    },
    {
      "cell_type": "code",
      "source": [
        "nltk.download('averaged_perceptron_tagger')\n",
        "nltk.download('wordnet')"
      ],
      "metadata": {
        "colab": {
          "base_uri": "https://localhost:8080/"
        },
        "id": "Yb4gmCVFC4d9",
        "outputId": "5fdd88f3-a7b5-47d8-8881-d31b7fbda562"
      },
      "execution_count": 98,
      "outputs": [
        {
          "output_type": "stream",
          "name": "stderr",
          "text": [
            "[nltk_data] Downloading package averaged_perceptron_tagger to\n",
            "[nltk_data]     /root/nltk_data...\n",
            "[nltk_data]   Package averaged_perceptron_tagger is already up-to-\n",
            "[nltk_data]       date!\n",
            "[nltk_data] Downloading package wordnet to /root/nltk_data...\n",
            "[nltk_data]   Package wordnet is already up-to-date!\n"
          ]
        },
        {
          "output_type": "execute_result",
          "data": {
            "text/plain": [
              "True"
            ]
          },
          "metadata": {},
          "execution_count": 98
        }
      ]
    },
    {
      "cell_type": "code",
      "source": [
        "from nltk import word_tokenize, pos_tag\n",
        "from nltk.stem import WordNetLemmatizer\n",
        "wnl = WordNetLemmatizer()\n",
        "lemmatized_texts_wo_punct = []\n",
        "for clean_tokenized_text in tokenized_texts:\n",
        "  lemmatized_texts_wo_punct.append([wnl.lemmatize(i,j[0].lower()) if j[0].lower() in ['a','n','v'] else wnl.lemmatize(i) for i,j in pos_tag(clean_tokenized_text)])"
      ],
      "metadata": {
        "id": "HvQx3n64C7Ma"
      },
      "execution_count": 99,
      "outputs": []
    },
    {
      "cell_type": "code",
      "source": [
        "lemmatized_texts_wo_punct = clean_stopwords(lemmatized_texts_wo_punct)\n",
        "lemmatized_texts_wo_punct = [' '.join(text) for text in lemmatized_texts_wo_punct]"
      ],
      "metadata": {
        "id": "mtWeWQuzDFda"
      },
      "execution_count": 100,
      "outputs": []
    },
    {
      "cell_type": "code",
      "source": [
        "!pip install -U sentence-transformers"
      ],
      "metadata": {
        "colab": {
          "base_uri": "https://localhost:8080/"
        },
        "id": "0IqRc5GxDIs8",
        "outputId": "2201f441-a2bf-4877-d4ce-aced43149749"
      },
      "execution_count": 101,
      "outputs": [
        {
          "output_type": "stream",
          "name": "stdout",
          "text": [
            "Requirement already satisfied: sentence-transformers in /usr/local/lib/python3.10/dist-packages (2.2.2)\n",
            "Requirement already satisfied: transformers<5.0.0,>=4.6.0 in /usr/local/lib/python3.10/dist-packages (from sentence-transformers) (4.35.2)\n",
            "Requirement already satisfied: tqdm in /usr/local/lib/python3.10/dist-packages (from sentence-transformers) (4.66.1)\n",
            "Requirement already satisfied: torch>=1.6.0 in /usr/local/lib/python3.10/dist-packages (from sentence-transformers) (2.1.0+cu118)\n",
            "Requirement already satisfied: torchvision in /usr/local/lib/python3.10/dist-packages (from sentence-transformers) (0.16.0+cu118)\n",
            "Requirement already satisfied: numpy in /usr/local/lib/python3.10/dist-packages (from sentence-transformers) (1.23.5)\n",
            "Requirement already satisfied: scikit-learn in /usr/local/lib/python3.10/dist-packages (from sentence-transformers) (1.2.2)\n",
            "Requirement already satisfied: scipy in /usr/local/lib/python3.10/dist-packages (from sentence-transformers) (1.11.4)\n",
            "Requirement already satisfied: nltk in /usr/local/lib/python3.10/dist-packages (from sentence-transformers) (3.8.1)\n",
            "Requirement already satisfied: sentencepiece in /usr/local/lib/python3.10/dist-packages (from sentence-transformers) (0.1.99)\n",
            "Requirement already satisfied: huggingface-hub>=0.4.0 in /usr/local/lib/python3.10/dist-packages (from sentence-transformers) (0.19.4)\n",
            "Requirement already satisfied: filelock in /usr/local/lib/python3.10/dist-packages (from huggingface-hub>=0.4.0->sentence-transformers) (3.13.1)\n",
            "Requirement already satisfied: fsspec>=2023.5.0 in /usr/local/lib/python3.10/dist-packages (from huggingface-hub>=0.4.0->sentence-transformers) (2023.6.0)\n",
            "Requirement already satisfied: requests in /usr/local/lib/python3.10/dist-packages (from huggingface-hub>=0.4.0->sentence-transformers) (2.31.0)\n",
            "Requirement already satisfied: pyyaml>=5.1 in /usr/local/lib/python3.10/dist-packages (from huggingface-hub>=0.4.0->sentence-transformers) (6.0.1)\n",
            "Requirement already satisfied: typing-extensions>=3.7.4.3 in /usr/local/lib/python3.10/dist-packages (from huggingface-hub>=0.4.0->sentence-transformers) (4.5.0)\n",
            "Requirement already satisfied: packaging>=20.9 in /usr/local/lib/python3.10/dist-packages (from huggingface-hub>=0.4.0->sentence-transformers) (23.2)\n",
            "Requirement already satisfied: sympy in /usr/local/lib/python3.10/dist-packages (from torch>=1.6.0->sentence-transformers) (1.12)\n",
            "Requirement already satisfied: networkx in /usr/local/lib/python3.10/dist-packages (from torch>=1.6.0->sentence-transformers) (3.2.1)\n",
            "Requirement already satisfied: jinja2 in /usr/local/lib/python3.10/dist-packages (from torch>=1.6.0->sentence-transformers) (3.1.2)\n",
            "Requirement already satisfied: triton==2.1.0 in /usr/local/lib/python3.10/dist-packages (from torch>=1.6.0->sentence-transformers) (2.1.0)\n",
            "Requirement already satisfied: regex!=2019.12.17 in /usr/local/lib/python3.10/dist-packages (from transformers<5.0.0,>=4.6.0->sentence-transformers) (2023.6.3)\n",
            "Requirement already satisfied: tokenizers<0.19,>=0.14 in /usr/local/lib/python3.10/dist-packages (from transformers<5.0.0,>=4.6.0->sentence-transformers) (0.15.0)\n",
            "Requirement already satisfied: safetensors>=0.3.1 in /usr/local/lib/python3.10/dist-packages (from transformers<5.0.0,>=4.6.0->sentence-transformers) (0.4.1)\n",
            "Requirement already satisfied: click in /usr/local/lib/python3.10/dist-packages (from nltk->sentence-transformers) (8.1.7)\n",
            "Requirement already satisfied: joblib in /usr/local/lib/python3.10/dist-packages (from nltk->sentence-transformers) (1.3.2)\n",
            "Requirement already satisfied: threadpoolctl>=2.0.0 in /usr/local/lib/python3.10/dist-packages (from scikit-learn->sentence-transformers) (3.2.0)\n",
            "Requirement already satisfied: pillow!=8.3.*,>=5.3.0 in /usr/local/lib/python3.10/dist-packages (from torchvision->sentence-transformers) (9.4.0)\n",
            "Requirement already satisfied: MarkupSafe>=2.0 in /usr/local/lib/python3.10/dist-packages (from jinja2->torch>=1.6.0->sentence-transformers) (2.1.3)\n",
            "Requirement already satisfied: charset-normalizer<4,>=2 in /usr/local/lib/python3.10/dist-packages (from requests->huggingface-hub>=0.4.0->sentence-transformers) (3.3.2)\n",
            "Requirement already satisfied: idna<4,>=2.5 in /usr/local/lib/python3.10/dist-packages (from requests->huggingface-hub>=0.4.0->sentence-transformers) (3.6)\n",
            "Requirement already satisfied: urllib3<3,>=1.21.1 in /usr/local/lib/python3.10/dist-packages (from requests->huggingface-hub>=0.4.0->sentence-transformers) (2.0.7)\n",
            "Requirement already satisfied: certifi>=2017.4.17 in /usr/local/lib/python3.10/dist-packages (from requests->huggingface-hub>=0.4.0->sentence-transformers) (2023.11.17)\n",
            "Requirement already satisfied: mpmath>=0.19 in /usr/local/lib/python3.10/dist-packages (from sympy->torch>=1.6.0->sentence-transformers) (1.3.0)\n"
          ]
        }
      ]
    },
    {
      "cell_type": "code",
      "source": [
        "from sentence_transformers import SentenceTransformer\n",
        "\n",
        "model_st = SentenceTransformer('all-MiniLM-L6-v2')"
      ],
      "metadata": {
        "id": "9JYsujYKDLCL"
      },
      "execution_count": 102,
      "outputs": []
    },
    {
      "cell_type": "code",
      "source": [
        "labels = df[\"topic\"]\n",
        "labels = [label - 1 for label in labels]"
      ],
      "metadata": {
        "id": "cMJPE7mxCOqg"
      },
      "execution_count": 103,
      "outputs": []
    },
    {
      "cell_type": "code",
      "source": [
        "X_train, X_test, y_train, y_test = train_test_split(lemmatized_texts_wo_punct, labels, test_size=0.2, random_state=1)\n",
        "\n",
        "X_train, X_val, y_train, y_val = train_test_split(X_train, y_train, test_size=0.25, random_state=1)"
      ],
      "metadata": {
        "id": "-Z6Fu9snDt3l"
      },
      "execution_count": 128,
      "outputs": []
    },
    {
      "cell_type": "code",
      "source": [
        "print(f'len(X_train) = {len(X_train)}')\n",
        "print(f'len(y_train) = {len(y_train)}')\n",
        "print(f'len(X_val) = {len(X_val)}')\n",
        "print(f'len(y_val) = {len(y_val)}')\n",
        "print(f'len(X_test) = {len(X_test)}')\n",
        "print(f'len(y_test) = {len(y_test)}')"
      ],
      "metadata": {
        "colab": {
          "base_uri": "https://localhost:8080/"
        },
        "id": "la4tLrfxEDP3",
        "outputId": "6524df84-d70a-4237-ddcd-c3b0383fb4c2"
      },
      "execution_count": 105,
      "outputs": [
        {
          "output_type": "stream",
          "name": "stdout",
          "text": [
            "len(X_train) = 9000\n",
            "len(y_train) = 9000\n",
            "len(X_val) = 3000\n",
            "len(y_val) = 3000\n",
            "len(X_test) = 3000\n",
            "len(y_test) = 3000\n"
          ]
        }
      ]
    },
    {
      "cell_type": "code",
      "source": [
        "X_train_emb = model_st.encode(X_train)\n",
        "X_val_emb = model_st.encode(X_val)\n",
        "X_test_emb = model_st.encode(X_test)"
      ],
      "metadata": {
        "id": "SFOaxPwTDpO3"
      },
      "execution_count": 106,
      "outputs": []
    },
    {
      "cell_type": "markdown",
      "source": [
        "# Model"
      ],
      "metadata": {
        "id": "JO9QlrVUaGii"
      }
    },
    {
      "cell_type": "code",
      "source": [
        "model = nn.Sequential(\n",
        "    nn.Linear(X_train_emb.shape[1], 64),\n",
        "    nn.ReLU(),\n",
        "    nn.Linear(64, 32),\n",
        "    nn.ReLU(),\n",
        "    nn.Linear(32, 8)\n",
        ").to(\"cpu\")"
      ],
      "metadata": {
        "id": "N_d4FPmqaGik"
      },
      "execution_count": 231,
      "outputs": []
    },
    {
      "cell_type": "code",
      "source": [
        "class CustomDataset(Dataset):\n",
        "    def __init__(self, input_df, target_df, transform=None):\n",
        "        self.input_df = input_df\n",
        "        self.target_df = target_df\n",
        "        self.transform = transform\n",
        "\n",
        "    def __len__(self):\n",
        "        return len(self.input_df)\n",
        "\n",
        "    def __getitem__(self, index):\n",
        "        input_tensor = torch.tensor(self.input_df[index], dtype=torch.float32)\n",
        "        target_tensor = torch.tensor(self.target_df[index], dtype=torch.float32)\n",
        "        return input_tensor, target_tensor"
      ],
      "metadata": {
        "id": "rKAUUuExaGik"
      },
      "execution_count": 232,
      "outputs": []
    },
    {
      "cell_type": "code",
      "source": [
        "y_train_array = np.array(y_train)\n",
        "y_test_array = np.array(y_test)\n",
        "y_val_array = np.array(y_val)"
      ],
      "metadata": {
        "id": "MuioM6ggQ2yO"
      },
      "execution_count": 233,
      "outputs": []
    },
    {
      "cell_type": "code",
      "source": [
        "train_dataloader = torch.utils.data.DataLoader(CustomDataset(X_train_emb, y_train_array), 64, shuffle=True)\n",
        "val_dataloader = torch.utils.data.DataLoader(CustomDataset(X_val_emb, y_val_array), 64, shuffle=True)\n",
        "test_dataloader = torch.utils.data.DataLoader(CustomDataset(X_test_emb, y_test_array), 1, shuffle=False)"
      ],
      "metadata": {
        "id": "FH6u0sIUaGil"
      },
      "execution_count": 234,
      "outputs": []
    },
    {
      "cell_type": "code",
      "source": [
        "def train_and_validate(model, criterion, optimizer, train_dataloader, val_dataloader, n_epochs):\n",
        "    train_loss = []\n",
        "    val_losses = []\n",
        "\n",
        "    for epoch in range(n_epochs):\n",
        "        # Training phase\n",
        "        model.train()\n",
        "        running_loss = 0.0\n",
        "        for i, (inputs, labels) in enumerate(train_dataloader):\n",
        "            optimizer.zero_grad()\n",
        "            outputs = model(inputs.view(inputs.size(0), -1))\n",
        "            loss = criterion(outputs, labels.long())\n",
        "            loss.backward()\n",
        "            optimizer.step()\n",
        "            running_loss += loss.item()\n",
        "            if i == len(train_dataloader) - 1:\n",
        "              train_epoch_loss = running_loss / len(train_dataloader)\n",
        "              train_loss.append(train_epoch_loss)\n",
        "              print('Epoch %d | Training loss: %.3f' % (epoch+1, train_epoch_loss))\n",
        "\n",
        "        # Validation phase\n",
        "        model.eval()\n",
        "        running_val_loss = 0.0\n",
        "        with torch.no_grad():  # If we make validation there is no need to track gradients\n",
        "            for i, (inputs, labels) in enumerate(val_dataloader):\n",
        "                outputs = model(inputs.view(inputs.size(0), -1))\n",
        "                val_loss = criterion(outputs, labels.long())\n",
        "                running_val_loss += val_loss.item()\n",
        "                if i == len(val_dataloader) - 1:\n",
        "                  val_epoch_loss = running_val_loss / len(val_dataloader)\n",
        "                  val_losses.append(val_epoch_loss)\n",
        "                  print('Epoch %d | Validation loss: %.3f' % (epoch+1, val_epoch_loss))\n",
        "                  print('--------------------------------')\n",
        "\n",
        "    # Plotting training and validation loss\n",
        "    plt.plot(range(1, len(train_loss)+1), train_loss, label='Training Loss')\n",
        "    plt.plot(range(1, len(val_losses)+1), val_losses, label='Validation Loss')\n",
        "    plt.xlabel('Epoch')\n",
        "    plt.ylabel('Loss')\n",
        "    plt.title('Training and Validation Loss')\n",
        "    plt.legend()\n",
        "    plt.show()"
      ],
      "metadata": {
        "id": "6hOH27LJaGil"
      },
      "execution_count": 235,
      "outputs": []
    },
    {
      "cell_type": "code",
      "source": [
        "criterion = nn.CrossEntropyLoss() # Chose loss for multiclass classification\n",
        "# As you can see higher I didn't use Softmax activation function as the last activation function\n",
        "# because CrossEntropyLoss already applies nn.LogSoftmax() + nn.NLLLoss()\n",
        "optimizer = optim.Adam(model.parameters(), lr=0.001) # An optimizer that usually works best\n",
        "\n",
        "train_and_validate(model, criterion, optimizer, train_dataloader, val_dataloader, 10)"
      ],
      "metadata": {
        "colab": {
          "base_uri": "https://localhost:8080/",
          "height": 993
        },
        "id": "cu4fUenHJz9p",
        "outputId": "afef10eb-7c1d-4cc0-d7a8-723ef0d12a7d"
      },
      "execution_count": 236,
      "outputs": [
        {
          "output_type": "stream",
          "name": "stdout",
          "text": [
            "Epoch 1 | Training loss: 1.990\n",
            "Epoch 1 | Validation loss: 1.807\n",
            "--------------------------------\n",
            "Epoch 2 | Training loss: 1.671\n",
            "Epoch 2 | Validation loss: 1.612\n",
            "--------------------------------\n",
            "Epoch 3 | Training loss: 1.534\n",
            "Epoch 3 | Validation loss: 1.530\n",
            "--------------------------------\n",
            "Epoch 4 | Training loss: 1.450\n",
            "Epoch 4 | Validation loss: 1.473\n",
            "--------------------------------\n",
            "Epoch 5 | Training loss: 1.385\n",
            "Epoch 5 | Validation loss: 1.443\n",
            "--------------------------------\n",
            "Epoch 6 | Training loss: 1.341\n",
            "Epoch 6 | Validation loss: 1.414\n",
            "--------------------------------\n",
            "Epoch 7 | Training loss: 1.309\n",
            "Epoch 7 | Validation loss: 1.398\n",
            "--------------------------------\n",
            "Epoch 8 | Training loss: 1.278\n",
            "Epoch 8 | Validation loss: 1.396\n",
            "--------------------------------\n",
            "Epoch 9 | Training loss: 1.257\n",
            "Epoch 9 | Validation loss: 1.372\n",
            "--------------------------------\n",
            "Epoch 10 | Training loss: 1.237\n",
            "Epoch 10 | Validation loss: 1.371\n",
            "--------------------------------\n"
          ]
        },
        {
          "output_type": "display_data",
          "data": {
            "text/plain": [
              "<Figure size 640x480 with 1 Axes>"
            ],
            "image/png": "[encoded data removed]"
          },
          "metadata": {}
        }
      ]
    },
    {
      "cell_type": "code",
      "source": [
        "def get_predictions(model, test_dataloader):\n",
        "  total_loss = 0\n",
        "  total_correct = 0\n",
        "  predictions = []\n",
        "\n",
        "  with torch.no_grad():\n",
        "      for inputs, targets in test_dataloader:\n",
        "          output = model(inputs)\n",
        "          _, predicted = torch.max(output, 1) # Get the predicted class with the highest probability\n",
        "          total_correct += (predicted == targets).sum().item() # Accumulate total correct predictions\n",
        "          predictions.extend(predicted.tolist())\n",
        "  return predictions"
      ],
      "metadata": {
        "id": "Zbxt4SS1aGim"
      },
      "execution_count": 237,
      "outputs": []
    },
    {
      "cell_type": "code",
      "source": [
        "print(classification_report(y_test_array, get_predictions(model, test_dataloader)))"
      ],
      "metadata": {
        "colab": {
          "base_uri": "https://localhost:8080/"
        },
        "outputId": "230b5a3a-414c-4bff-d647-33ca209ed73e",
        "id": "MRfMxGU1aGim"
      },
      "execution_count": 238,
      "outputs": [
        {
          "output_type": "stream",
          "name": "stdout",
          "text": [
            "              precision    recall  f1-score   support\n",
            "\n",
            "           0       0.56      0.53      0.54       350\n",
            "           1       0.39      0.34      0.37       387\n",
            "           2       0.40      0.56      0.47       363\n",
            "           3       0.63      0.59      0.61       390\n",
            "           4       0.54      0.48      0.51       337\n",
            "           5       0.57      0.66      0.61       404\n",
            "           6       0.56      0.34      0.43       390\n",
            "           7       0.64      0.76      0.69       379\n",
            "\n",
            "    accuracy                           0.53      3000\n",
            "   macro avg       0.54      0.53      0.53      3000\n",
            "weighted avg       0.54      0.53      0.53      3000\n",
            "\n"
          ]
        }
      ]
    }
  ]
}